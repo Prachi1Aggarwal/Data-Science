{
  "nbformat": 4,
  "nbformat_minor": 0,
  "metadata": {
    "colab": {
      "provenance": [],
      "toc_visible": true
    },
    "kernelspec": {
      "name": "python3",
      "display_name": "Python 3"
    },
    "language_info": {
      "name": "python"
    }
  },
  "cells": [
    {
      "cell_type": "markdown",
      "source": [
        "# **Problem Statement:**\n",
        "\n",
        "Sales management has gained importance to meet increasing competition and the\n",
        "need for improved methods of distribution to reduce cost and to increase profits. Sales management today is the most important function in a commercial and business enterprise.\n",
        "\n",
        "***Do ETL:*** Extract-Transform-Load some Amazon dataset and\n",
        "1. find for me Sales-trend -> month-wise, year-wise, yearly_month-wise\n",
        "2. Find key metrics and factors and show the meaningful relationships between\n",
        "attributes."
      ],
      "metadata": {
        "id": "gXUhxHozzkmp"
      }
    },
    {
      "cell_type": "code",
      "source": [
        "import pandas as pd\n",
        "import numpy as np\n",
        "import matplotlib.pyplot as plt\n",
        "import seaborn as sns"
      ],
      "metadata": {
        "id": "dB9vMv_UhSdn"
      },
      "execution_count": 48,
      "outputs": []
    },
    {
      "cell_type": "code",
      "source": [
        "df = pd.read_csv('Amazon Sales data.csv')\n",
        "\n",
        "df.head()"
      ],
      "metadata": {
        "colab": {
          "base_uri": "https://localhost:8080/",
          "height": 434
        },
        "id": "L6WxE_X9hXc9",
        "outputId": "d799f04e-287b-49cb-ce77-4c9febbfae7e"
      },
      "execution_count": 49,
      "outputs": [
        {
          "output_type": "execute_result",
          "data": {
            "text/plain": [
              "                              Region                Country        Item Type  \\\n",
              "0              Australia and Oceania                 Tuvalu        Baby Food   \n",
              "1  Central America and the Caribbean                Grenada           Cereal   \n",
              "2                             Europe                 Russia  Office Supplies   \n",
              "3                 Sub-Saharan Africa  Sao Tome and Principe           Fruits   \n",
              "4                 Sub-Saharan Africa                 Rwanda  Office Supplies   \n",
              "\n",
              "  Sales Channel Order Priority Order Date   Order ID  Ship Date  Units Sold  \\\n",
              "0       Offline              H  5/28/2010  669165933  6/27/2010        9925   \n",
              "1        Online              C  8/22/2012  963881480  9/15/2012        2804   \n",
              "2       Offline              L   5/2/2014  341417157   5/8/2014        1779   \n",
              "3        Online              C  6/20/2014  514321792   7/5/2014        8102   \n",
              "4       Offline              L   2/1/2013  115456712   2/6/2013        5062   \n",
              "\n",
              "   Unit Price  Unit Cost  Total Revenue  Total Cost  Total Profit  \n",
              "0      255.28     159.42     2533654.00  1582243.50     951410.50  \n",
              "1      205.70     117.11      576782.80   328376.44     248406.36  \n",
              "2      651.21     524.96     1158502.59   933903.84     224598.75  \n",
              "3        9.33       6.92       75591.66    56065.84      19525.82  \n",
              "4      651.21     524.96     3296425.02  2657347.52     639077.50  "
            ],
            "text/html": [
              "\n",
              "  <div id=\"df-938ca153-0302-4ac7-a375-2b15350faf41\" class=\"colab-df-container\">\n",
              "    <div>\n",
              "<style scoped>\n",
              "    .dataframe tbody tr th:only-of-type {\n",
              "        vertical-align: middle;\n",
              "    }\n",
              "\n",
              "    .dataframe tbody tr th {\n",
              "        vertical-align: top;\n",
              "    }\n",
              "\n",
              "    .dataframe thead th {\n",
              "        text-align: right;\n",
              "    }\n",
              "</style>\n",
              "<table border=\"1\" class=\"dataframe\">\n",
              "  <thead>\n",
              "    <tr style=\"text-align: right;\">\n",
              "      <th></th>\n",
              "      <th>Region</th>\n",
              "      <th>Country</th>\n",
              "      <th>Item Type</th>\n",
              "      <th>Sales Channel</th>\n",
              "      <th>Order Priority</th>\n",
              "      <th>Order Date</th>\n",
              "      <th>Order ID</th>\n",
              "      <th>Ship Date</th>\n",
              "      <th>Units Sold</th>\n",
              "      <th>Unit Price</th>\n",
              "      <th>Unit Cost</th>\n",
              "      <th>Total Revenue</th>\n",
              "      <th>Total Cost</th>\n",
              "      <th>Total Profit</th>\n",
              "    </tr>\n",
              "  </thead>\n",
              "  <tbody>\n",
              "    <tr>\n",
              "      <th>0</th>\n",
              "      <td>Australia and Oceania</td>\n",
              "      <td>Tuvalu</td>\n",
              "      <td>Baby Food</td>\n",
              "      <td>Offline</td>\n",
              "      <td>H</td>\n",
              "      <td>5/28/2010</td>\n",
              "      <td>669165933</td>\n",
              "      <td>6/27/2010</td>\n",
              "      <td>9925</td>\n",
              "      <td>255.28</td>\n",
              "      <td>159.42</td>\n",
              "      <td>2533654.00</td>\n",
              "      <td>1582243.50</td>\n",
              "      <td>951410.50</td>\n",
              "    </tr>\n",
              "    <tr>\n",
              "      <th>1</th>\n",
              "      <td>Central America and the Caribbean</td>\n",
              "      <td>Grenada</td>\n",
              "      <td>Cereal</td>\n",
              "      <td>Online</td>\n",
              "      <td>C</td>\n",
              "      <td>8/22/2012</td>\n",
              "      <td>963881480</td>\n",
              "      <td>9/15/2012</td>\n",
              "      <td>2804</td>\n",
              "      <td>205.70</td>\n",
              "      <td>117.11</td>\n",
              "      <td>576782.80</td>\n",
              "      <td>328376.44</td>\n",
              "      <td>248406.36</td>\n",
              "    </tr>\n",
              "    <tr>\n",
              "      <th>2</th>\n",
              "      <td>Europe</td>\n",
              "      <td>Russia</td>\n",
              "      <td>Office Supplies</td>\n",
              "      <td>Offline</td>\n",
              "      <td>L</td>\n",
              "      <td>5/2/2014</td>\n",
              "      <td>341417157</td>\n",
              "      <td>5/8/2014</td>\n",
              "      <td>1779</td>\n",
              "      <td>651.21</td>\n",
              "      <td>524.96</td>\n",
              "      <td>1158502.59</td>\n",
              "      <td>933903.84</td>\n",
              "      <td>224598.75</td>\n",
              "    </tr>\n",
              "    <tr>\n",
              "      <th>3</th>\n",
              "      <td>Sub-Saharan Africa</td>\n",
              "      <td>Sao Tome and Principe</td>\n",
              "      <td>Fruits</td>\n",
              "      <td>Online</td>\n",
              "      <td>C</td>\n",
              "      <td>6/20/2014</td>\n",
              "      <td>514321792</td>\n",
              "      <td>7/5/2014</td>\n",
              "      <td>8102</td>\n",
              "      <td>9.33</td>\n",
              "      <td>6.92</td>\n",
              "      <td>75591.66</td>\n",
              "      <td>56065.84</td>\n",
              "      <td>19525.82</td>\n",
              "    </tr>\n",
              "    <tr>\n",
              "      <th>4</th>\n",
              "      <td>Sub-Saharan Africa</td>\n",
              "      <td>Rwanda</td>\n",
              "      <td>Office Supplies</td>\n",
              "      <td>Offline</td>\n",
              "      <td>L</td>\n",
              "      <td>2/1/2013</td>\n",
              "      <td>115456712</td>\n",
              "      <td>2/6/2013</td>\n",
              "      <td>5062</td>\n",
              "      <td>651.21</td>\n",
              "      <td>524.96</td>\n",
              "      <td>3296425.02</td>\n",
              "      <td>2657347.52</td>\n",
              "      <td>639077.50</td>\n",
              "    </tr>\n",
              "  </tbody>\n",
              "</table>\n",
              "</div>\n",
              "    <div class=\"colab-df-buttons\">\n",
              "\n",
              "  <div class=\"colab-df-container\">\n",
              "    <button class=\"colab-df-convert\" onclick=\"convertToInteractive('df-938ca153-0302-4ac7-a375-2b15350faf41')\"\n",
              "            title=\"Convert this dataframe to an interactive table.\"\n",
              "            style=\"display:none;\">\n",
              "\n",
              "  <svg xmlns=\"http://www.w3.org/2000/svg\" height=\"24px\" viewBox=\"0 -960 960 960\">\n",
              "    <path d=\"M120-120v-720h720v720H120Zm60-500h600v-160H180v160Zm220 220h160v-160H400v160Zm0 220h160v-160H400v160ZM180-400h160v-160H180v160Zm440 0h160v-160H620v160ZM180-180h160v-160H180v160Zm440 0h160v-160H620v160Z\"/>\n",
              "  </svg>\n",
              "    </button>\n",
              "\n",
              "  <style>\n",
              "    .colab-df-container {\n",
              "      display:flex;\n",
              "      gap: 12px;\n",
              "    }\n",
              "\n",
              "    .colab-df-convert {\n",
              "      background-color: #E8F0FE;\n",
              "      border: none;\n",
              "      border-radius: 50%;\n",
              "      cursor: pointer;\n",
              "      display: none;\n",
              "      fill: #1967D2;\n",
              "      height: 32px;\n",
              "      padding: 0 0 0 0;\n",
              "      width: 32px;\n",
              "    }\n",
              "\n",
              "    .colab-df-convert:hover {\n",
              "      background-color: #E2EBFA;\n",
              "      box-shadow: 0px 1px 2px rgba(60, 64, 67, 0.3), 0px 1px 3px 1px rgba(60, 64, 67, 0.15);\n",
              "      fill: #174EA6;\n",
              "    }\n",
              "\n",
              "    .colab-df-buttons div {\n",
              "      margin-bottom: 4px;\n",
              "    }\n",
              "\n",
              "    [theme=dark] .colab-df-convert {\n",
              "      background-color: #3B4455;\n",
              "      fill: #D2E3FC;\n",
              "    }\n",
              "\n",
              "    [theme=dark] .colab-df-convert:hover {\n",
              "      background-color: #434B5C;\n",
              "      box-shadow: 0px 1px 3px 1px rgba(0, 0, 0, 0.15);\n",
              "      filter: drop-shadow(0px 1px 2px rgba(0, 0, 0, 0.3));\n",
              "      fill: #FFFFFF;\n",
              "    }\n",
              "  </style>\n",
              "\n",
              "    <script>\n",
              "      const buttonEl =\n",
              "        document.querySelector('#df-938ca153-0302-4ac7-a375-2b15350faf41 button.colab-df-convert');\n",
              "      buttonEl.style.display =\n",
              "        google.colab.kernel.accessAllowed ? 'block' : 'none';\n",
              "\n",
              "      async function convertToInteractive(key) {\n",
              "        const element = document.querySelector('#df-938ca153-0302-4ac7-a375-2b15350faf41');\n",
              "        const dataTable =\n",
              "          await google.colab.kernel.invokeFunction('convertToInteractive',\n",
              "                                                    [key], {});\n",
              "        if (!dataTable) return;\n",
              "\n",
              "        const docLinkHtml = 'Like what you see? Visit the ' +\n",
              "          '<a target=\"_blank\" href=https://colab.research.google.com/notebooks/data_table.ipynb>data table notebook</a>'\n",
              "          + ' to learn more about interactive tables.';\n",
              "        element.innerHTML = '';\n",
              "        dataTable['output_type'] = 'display_data';\n",
              "        await google.colab.output.renderOutput(dataTable, element);\n",
              "        const docLink = document.createElement('div');\n",
              "        docLink.innerHTML = docLinkHtml;\n",
              "        element.appendChild(docLink);\n",
              "      }\n",
              "    </script>\n",
              "  </div>\n",
              "\n",
              "\n",
              "<div id=\"df-b97f4457-778f-413c-b222-b8f85bedc50f\">\n",
              "  <button class=\"colab-df-quickchart\" onclick=\"quickchart('df-b97f4457-778f-413c-b222-b8f85bedc50f')\"\n",
              "            title=\"Suggest charts\"\n",
              "            style=\"display:none;\">\n",
              "\n",
              "<svg xmlns=\"http://www.w3.org/2000/svg\" height=\"24px\"viewBox=\"0 0 24 24\"\n",
              "     width=\"24px\">\n",
              "    <g>\n",
              "        <path d=\"M19 3H5c-1.1 0-2 .9-2 2v14c0 1.1.9 2 2 2h14c1.1 0 2-.9 2-2V5c0-1.1-.9-2-2-2zM9 17H7v-7h2v7zm4 0h-2V7h2v10zm4 0h-2v-4h2v4z\"/>\n",
              "    </g>\n",
              "</svg>\n",
              "  </button>\n",
              "\n",
              "<style>\n",
              "  .colab-df-quickchart {\n",
              "      --bg-color: #E8F0FE;\n",
              "      --fill-color: #1967D2;\n",
              "      --hover-bg-color: #E2EBFA;\n",
              "      --hover-fill-color: #174EA6;\n",
              "      --disabled-fill-color: #AAA;\n",
              "      --disabled-bg-color: #DDD;\n",
              "  }\n",
              "\n",
              "  [theme=dark] .colab-df-quickchart {\n",
              "      --bg-color: #3B4455;\n",
              "      --fill-color: #D2E3FC;\n",
              "      --hover-bg-color: #434B5C;\n",
              "      --hover-fill-color: #FFFFFF;\n",
              "      --disabled-bg-color: #3B4455;\n",
              "      --disabled-fill-color: #666;\n",
              "  }\n",
              "\n",
              "  .colab-df-quickchart {\n",
              "    background-color: var(--bg-color);\n",
              "    border: none;\n",
              "    border-radius: 50%;\n",
              "    cursor: pointer;\n",
              "    display: none;\n",
              "    fill: var(--fill-color);\n",
              "    height: 32px;\n",
              "    padding: 0;\n",
              "    width: 32px;\n",
              "  }\n",
              "\n",
              "  .colab-df-quickchart:hover {\n",
              "    background-color: var(--hover-bg-color);\n",
              "    box-shadow: 0 1px 2px rgba(60, 64, 67, 0.3), 0 1px 3px 1px rgba(60, 64, 67, 0.15);\n",
              "    fill: var(--button-hover-fill-color);\n",
              "  }\n",
              "\n",
              "  .colab-df-quickchart-complete:disabled,\n",
              "  .colab-df-quickchart-complete:disabled:hover {\n",
              "    background-color: var(--disabled-bg-color);\n",
              "    fill: var(--disabled-fill-color);\n",
              "    box-shadow: none;\n",
              "  }\n",
              "\n",
              "  .colab-df-spinner {\n",
              "    border: 2px solid var(--fill-color);\n",
              "    border-color: transparent;\n",
              "    border-bottom-color: var(--fill-color);\n",
              "    animation:\n",
              "      spin 1s steps(1) infinite;\n",
              "  }\n",
              "\n",
              "  @keyframes spin {\n",
              "    0% {\n",
              "      border-color: transparent;\n",
              "      border-bottom-color: var(--fill-color);\n",
              "      border-left-color: var(--fill-color);\n",
              "    }\n",
              "    20% {\n",
              "      border-color: transparent;\n",
              "      border-left-color: var(--fill-color);\n",
              "      border-top-color: var(--fill-color);\n",
              "    }\n",
              "    30% {\n",
              "      border-color: transparent;\n",
              "      border-left-color: var(--fill-color);\n",
              "      border-top-color: var(--fill-color);\n",
              "      border-right-color: var(--fill-color);\n",
              "    }\n",
              "    40% {\n",
              "      border-color: transparent;\n",
              "      border-right-color: var(--fill-color);\n",
              "      border-top-color: var(--fill-color);\n",
              "    }\n",
              "    60% {\n",
              "      border-color: transparent;\n",
              "      border-right-color: var(--fill-color);\n",
              "    }\n",
              "    80% {\n",
              "      border-color: transparent;\n",
              "      border-right-color: var(--fill-color);\n",
              "      border-bottom-color: var(--fill-color);\n",
              "    }\n",
              "    90% {\n",
              "      border-color: transparent;\n",
              "      border-bottom-color: var(--fill-color);\n",
              "    }\n",
              "  }\n",
              "</style>\n",
              "\n",
              "  <script>\n",
              "    async function quickchart(key) {\n",
              "      const quickchartButtonEl =\n",
              "        document.querySelector('#' + key + ' button');\n",
              "      quickchartButtonEl.disabled = true;  // To prevent multiple clicks.\n",
              "      quickchartButtonEl.classList.add('colab-df-spinner');\n",
              "      try {\n",
              "        const charts = await google.colab.kernel.invokeFunction(\n",
              "            'suggestCharts', [key], {});\n",
              "      } catch (error) {\n",
              "        console.error('Error during call to suggestCharts:', error);\n",
              "      }\n",
              "      quickchartButtonEl.classList.remove('colab-df-spinner');\n",
              "      quickchartButtonEl.classList.add('colab-df-quickchart-complete');\n",
              "    }\n",
              "    (() => {\n",
              "      let quickchartButtonEl =\n",
              "        document.querySelector('#df-b97f4457-778f-413c-b222-b8f85bedc50f button');\n",
              "      quickchartButtonEl.style.display =\n",
              "        google.colab.kernel.accessAllowed ? 'block' : 'none';\n",
              "    })();\n",
              "  </script>\n",
              "</div>\n",
              "\n",
              "    </div>\n",
              "  </div>\n"
            ],
            "application/vnd.google.colaboratory.intrinsic+json": {
              "type": "dataframe",
              "variable_name": "df",
              "summary": "{\n  \"name\": \"df\",\n  \"rows\": 100,\n  \"fields\": [\n    {\n      \"column\": \"Region\",\n      \"properties\": {\n        \"dtype\": \"category\",\n        \"num_unique_values\": 7,\n        \"samples\": [\n          \"Australia and Oceania\",\n          \"Central America and the Caribbean\",\n          \"Middle East and North Africa\"\n        ],\n        \"semantic_type\": \"\",\n        \"description\": \"\"\n      }\n    },\n    {\n      \"column\": \"Country\",\n      \"properties\": {\n        \"dtype\": \"string\",\n        \"num_unique_values\": 76,\n        \"samples\": [\n          \"Rwanda\",\n          \"Brunei\",\n          \"Kyrgyzstan\"\n        ],\n        \"semantic_type\": \"\",\n        \"description\": \"\"\n      }\n    },\n    {\n      \"column\": \"Item Type\",\n      \"properties\": {\n        \"dtype\": \"category\",\n        \"num_unique_values\": 12,\n        \"samples\": [\n          \"Meat\",\n          \"Beverages\",\n          \"Baby Food\"\n        ],\n        \"semantic_type\": \"\",\n        \"description\": \"\"\n      }\n    },\n    {\n      \"column\": \"Sales Channel\",\n      \"properties\": {\n        \"dtype\": \"category\",\n        \"num_unique_values\": 2,\n        \"samples\": [\n          \"Online\",\n          \"Offline\"\n        ],\n        \"semantic_type\": \"\",\n        \"description\": \"\"\n      }\n    },\n    {\n      \"column\": \"Order Priority\",\n      \"properties\": {\n        \"dtype\": \"category\",\n        \"num_unique_values\": 4,\n        \"samples\": [\n          \"C\",\n          \"M\"\n        ],\n        \"semantic_type\": \"\",\n        \"description\": \"\"\n      }\n    },\n    {\n      \"column\": \"Order Date\",\n      \"properties\": {\n        \"dtype\": \"object\",\n        \"num_unique_values\": 100,\n        \"samples\": [\n          \"1/4/2011\",\n          \"11/26/2011\"\n        ],\n        \"semantic_type\": \"\",\n        \"description\": \"\"\n      }\n    },\n    {\n      \"column\": \"Order ID\",\n      \"properties\": {\n        \"dtype\": \"number\",\n        \"std\": 260615257,\n        \"min\": 114606559,\n        \"max\": 994022214,\n        \"num_unique_values\": 100,\n        \"samples\": [\n          122583663,\n          441888415\n        ],\n        \"semantic_type\": \"\",\n        \"description\": \"\"\n      }\n    },\n    {\n      \"column\": \"Ship Date\",\n      \"properties\": {\n        \"dtype\": \"object\",\n        \"num_unique_values\": 99,\n        \"samples\": [\n          \"11/15/2011\",\n          \"3/28/2017\"\n        ],\n        \"semantic_type\": \"\",\n        \"description\": \"\"\n      }\n    },\n    {\n      \"column\": \"Units Sold\",\n      \"properties\": {\n        \"dtype\": \"number\",\n        \"std\": 2794,\n        \"min\": 124,\n        \"max\": 9925,\n        \"num_unique_values\": 99,\n        \"samples\": [\n          5518,\n          3015\n        ],\n        \"semantic_type\": \"\",\n        \"description\": \"\"\n      }\n    },\n    {\n      \"column\": \"Unit Price\",\n      \"properties\": {\n        \"dtype\": \"number\",\n        \"std\": 235.59224058433134,\n        \"min\": 9.33,\n        \"max\": 668.27,\n        \"num_unique_values\": 12,\n        \"samples\": [\n          421.89,\n          47.45\n        ],\n        \"semantic_type\": \"\",\n        \"description\": \"\"\n      }\n    },\n    {\n      \"column\": \"Unit Cost\",\n      \"properties\": {\n        \"dtype\": \"number\",\n        \"std\": 188.2081812485549,\n        \"min\": 6.92,\n        \"max\": 524.96,\n        \"num_unique_values\": 12,\n        \"samples\": [\n          364.69,\n          31.79\n        ],\n        \"semantic_type\": \"\",\n        \"description\": \"\"\n      }\n    },\n    {\n      \"column\": \"Total Revenue\",\n      \"properties\": {\n        \"dtype\": \"number\",\n        \"std\": 1460028.7068235008,\n        \"min\": 4870.26,\n        \"max\": 5997054.98,\n        \"num_unique_values\": 100,\n        \"samples\": [\n          623289.3,\n          2251232.97\n        ],\n        \"semantic_type\": \"\",\n        \"description\": \"\"\n      }\n    },\n    {\n      \"column\": \"Total Cost\",\n      \"properties\": {\n        \"dtype\": \"number\",\n        \"std\": 1083938.2521883622,\n        \"min\": 3612.24,\n        \"max\": 4509793.96,\n        \"num_unique_values\": 100,\n        \"samples\": [\n          398042.4,\n          1814786.72\n        ],\n        \"semantic_type\": \"\",\n        \"description\": \"\"\n      }\n    },\n    {\n      \"column\": \"Total Profit\",\n      \"properties\": {\n        \"dtype\": \"number\",\n        \"std\": 438537.90705963754,\n        \"min\": 1258.02,\n        \"max\": 1719922.04,\n        \"num_unique_values\": 100,\n        \"samples\": [\n          225246.9,\n          436446.25\n        ],\n        \"semantic_type\": \"\",\n        \"description\": \"\"\n      }\n    }\n  ]\n}"
            }
          },
          "metadata": {},
          "execution_count": 49
        }
      ]
    },
    {
      "cell_type": "code",
      "source": [
        "df.info()"
      ],
      "metadata": {
        "colab": {
          "base_uri": "https://localhost:8080/"
        },
        "id": "GBvPCxURiCBT",
        "outputId": "87d4be98-6bf4-424c-8185-cb7cac715fa8"
      },
      "execution_count": 50,
      "outputs": [
        {
          "output_type": "stream",
          "name": "stdout",
          "text": [
            "<class 'pandas.core.frame.DataFrame'>\n",
            "RangeIndex: 100 entries, 0 to 99\n",
            "Data columns (total 14 columns):\n",
            " #   Column          Non-Null Count  Dtype  \n",
            "---  ------          --------------  -----  \n",
            " 0   Region          100 non-null    object \n",
            " 1   Country         100 non-null    object \n",
            " 2   Item Type       100 non-null    object \n",
            " 3   Sales Channel   100 non-null    object \n",
            " 4   Order Priority  100 non-null    object \n",
            " 5   Order Date      100 non-null    object \n",
            " 6   Order ID        100 non-null    int64  \n",
            " 7   Ship Date       100 non-null    object \n",
            " 8   Units Sold      100 non-null    int64  \n",
            " 9   Unit Price      100 non-null    float64\n",
            " 10  Unit Cost       100 non-null    float64\n",
            " 11  Total Revenue   100 non-null    float64\n",
            " 12  Total Cost      100 non-null    float64\n",
            " 13  Total Profit    100 non-null    float64\n",
            "dtypes: float64(5), int64(2), object(7)\n",
            "memory usage: 11.1+ KB\n"
          ]
        }
      ]
    },
    {
      "cell_type": "markdown",
      "source": [
        "**Region**-> describes the geogrological location where sales occur\n",
        "\n",
        "**Country**-> country where sales have made\n",
        "\n",
        "**Item Type**-> category of saled items\n",
        "\n",
        "**Sales channel**-> mode of order online/offline\n",
        "\n",
        "**Order Priority**-> demand of particular product in that area H/M/L/C\n",
        "\n",
        "**Order date**-> date of placing order\n",
        "\n",
        "**Order ID**-> unique id for each item\n",
        "\n",
        "**Ship Date**-> the date when the order placed\n",
        "\n",
        "**Units Sold**-> Number of shipped items sold\n",
        "\n",
        "**Unit Price**-> Selling price of item per unit\n",
        "\n",
        "**Unit Cost**-> Cost price of item per unit\n",
        "\n",
        "**Total Revenue**-> Total earning\n",
        "\n",
        "**Total Cost**-> Total cost price of the units of item\n",
        "\n",
        "**Total Profit**-> Profit"
      ],
      "metadata": {
        "id": "9Z3Eoq6-mXjb"
      }
    },
    {
      "cell_type": "code",
      "source": [
        "df.shape"
      ],
      "metadata": {
        "colab": {
          "base_uri": "https://localhost:8080/"
        },
        "id": "VRRf9tvbi0-1",
        "outputId": "1df79ebf-6334-4a06-e965-9ceef1717974"
      },
      "execution_count": 51,
      "outputs": [
        {
          "output_type": "execute_result",
          "data": {
            "text/plain": [
              "(100, 14)"
            ]
          },
          "metadata": {},
          "execution_count": 51
        }
      ]
    },
    {
      "cell_type": "markdown",
      "source": [
        "There are total 100 records and 14 features\n",
        "\n"
      ],
      "metadata": {
        "id": "usBl0NyPTelb"
      }
    },
    {
      "cell_type": "code",
      "source": [
        "df.isnull().sum()"
      ],
      "metadata": {
        "colab": {
          "base_uri": "https://localhost:8080/",
          "height": 523
        },
        "id": "1p5zds0HjVsi",
        "outputId": "8864fe51-66e3-4f7c-f0dd-c9d5234f23ee"
      },
      "execution_count": 52,
      "outputs": [
        {
          "output_type": "execute_result",
          "data": {
            "text/plain": [
              "Region            0\n",
              "Country           0\n",
              "Item Type         0\n",
              "Sales Channel     0\n",
              "Order Priority    0\n",
              "Order Date        0\n",
              "Order ID          0\n",
              "Ship Date         0\n",
              "Units Sold        0\n",
              "Unit Price        0\n",
              "Unit Cost         0\n",
              "Total Revenue     0\n",
              "Total Cost        0\n",
              "Total Profit      0\n",
              "dtype: int64"
            ],
            "text/html": [
              "<div>\n",
              "<style scoped>\n",
              "    .dataframe tbody tr th:only-of-type {\n",
              "        vertical-align: middle;\n",
              "    }\n",
              "\n",
              "    .dataframe tbody tr th {\n",
              "        vertical-align: top;\n",
              "    }\n",
              "\n",
              "    .dataframe thead th {\n",
              "        text-align: right;\n",
              "    }\n",
              "</style>\n",
              "<table border=\"1\" class=\"dataframe\">\n",
              "  <thead>\n",
              "    <tr style=\"text-align: right;\">\n",
              "      <th></th>\n",
              "      <th>0</th>\n",
              "    </tr>\n",
              "  </thead>\n",
              "  <tbody>\n",
              "    <tr>\n",
              "      <th>Region</th>\n",
              "      <td>0</td>\n",
              "    </tr>\n",
              "    <tr>\n",
              "      <th>Country</th>\n",
              "      <td>0</td>\n",
              "    </tr>\n",
              "    <tr>\n",
              "      <th>Item Type</th>\n",
              "      <td>0</td>\n",
              "    </tr>\n",
              "    <tr>\n",
              "      <th>Sales Channel</th>\n",
              "      <td>0</td>\n",
              "    </tr>\n",
              "    <tr>\n",
              "      <th>Order Priority</th>\n",
              "      <td>0</td>\n",
              "    </tr>\n",
              "    <tr>\n",
              "      <th>Order Date</th>\n",
              "      <td>0</td>\n",
              "    </tr>\n",
              "    <tr>\n",
              "      <th>Order ID</th>\n",
              "      <td>0</td>\n",
              "    </tr>\n",
              "    <tr>\n",
              "      <th>Ship Date</th>\n",
              "      <td>0</td>\n",
              "    </tr>\n",
              "    <tr>\n",
              "      <th>Units Sold</th>\n",
              "      <td>0</td>\n",
              "    </tr>\n",
              "    <tr>\n",
              "      <th>Unit Price</th>\n",
              "      <td>0</td>\n",
              "    </tr>\n",
              "    <tr>\n",
              "      <th>Unit Cost</th>\n",
              "      <td>0</td>\n",
              "    </tr>\n",
              "    <tr>\n",
              "      <th>Total Revenue</th>\n",
              "      <td>0</td>\n",
              "    </tr>\n",
              "    <tr>\n",
              "      <th>Total Cost</th>\n",
              "      <td>0</td>\n",
              "    </tr>\n",
              "    <tr>\n",
              "      <th>Total Profit</th>\n",
              "      <td>0</td>\n",
              "    </tr>\n",
              "  </tbody>\n",
              "</table>\n",
              "</div><br><label><b>dtype:</b> int64</label>"
            ]
          },
          "metadata": {},
          "execution_count": 52
        }
      ]
    },
    {
      "cell_type": "markdown",
      "source": [
        "There is no null value in the data\n"
      ],
      "metadata": {
        "id": "N8wc39IHTjOM"
      }
    },
    {
      "cell_type": "code",
      "source": [
        "duplicates = df[df.duplicated()]\n",
        "num_duplicates = len(duplicates)\n",
        "num_duplicates"
      ],
      "metadata": {
        "colab": {
          "base_uri": "https://localhost:8080/"
        },
        "id": "2vOn_qnIlfdD",
        "outputId": "5ccebdd6-4f5c-4897-89fd-aa7896f2350a"
      },
      "execution_count": 7,
      "outputs": [
        {
          "output_type": "execute_result",
          "data": {
            "text/plain": [
              "0"
            ]
          },
          "metadata": {},
          "execution_count": 7
        }
      ]
    },
    {
      "cell_type": "markdown",
      "source": [
        "There is no duplicate records in given dataset"
      ],
      "metadata": {
        "id": "YHEt1OBvVr8_"
      }
    },
    {
      "cell_type": "code",
      "source": [
        "df.columns"
      ],
      "metadata": {
        "colab": {
          "base_uri": "https://localhost:8080/"
        },
        "id": "ZDRcRdkVvtx0",
        "outputId": "c431a939-e98d-4ec6-dbf7-f3e0299cb387"
      },
      "execution_count": 8,
      "outputs": [
        {
          "output_type": "execute_result",
          "data": {
            "text/plain": [
              "Index(['Region', 'Country', 'Item Type', 'Sales Channel', 'Order Priority',\n",
              "       'Order Date', 'Order ID', 'Ship Date', 'Units Sold', 'Unit Price',\n",
              "       'Unit Cost', 'Total Revenue', 'Total Cost', 'Total Profit'],\n",
              "      dtype='object')"
            ]
          },
          "metadata": {},
          "execution_count": 8
        }
      ]
    },
    {
      "cell_type": "code",
      "source": [
        "#Most sold items\n",
        "df['Item Type'].value_counts()"
      ],
      "metadata": {
        "colab": {
          "base_uri": "https://localhost:8080/",
          "height": 491
        },
        "id": "Ktgb5Bk3l_oM",
        "outputId": "0cc39bd6-6afa-4d92-d890-9937fafa80ff"
      },
      "execution_count": 9,
      "outputs": [
        {
          "output_type": "execute_result",
          "data": {
            "text/plain": [
              "Item Type\n",
              "Clothes            13\n",
              "Cosmetics          13\n",
              "Office Supplies    12\n",
              "Fruits             10\n",
              "Personal Care      10\n",
              "Household           9\n",
              "Beverages           8\n",
              "Baby Food           7\n",
              "Cereal              7\n",
              "Vegetables          6\n",
              "Snacks              3\n",
              "Meat                2\n",
              "Name: count, dtype: int64"
            ],
            "text/html": [
              "<div>\n",
              "<style scoped>\n",
              "    .dataframe tbody tr th:only-of-type {\n",
              "        vertical-align: middle;\n",
              "    }\n",
              "\n",
              "    .dataframe tbody tr th {\n",
              "        vertical-align: top;\n",
              "    }\n",
              "\n",
              "    .dataframe thead th {\n",
              "        text-align: right;\n",
              "    }\n",
              "</style>\n",
              "<table border=\"1\" class=\"dataframe\">\n",
              "  <thead>\n",
              "    <tr style=\"text-align: right;\">\n",
              "      <th></th>\n",
              "      <th>count</th>\n",
              "    </tr>\n",
              "    <tr>\n",
              "      <th>Item Type</th>\n",
              "      <th></th>\n",
              "    </tr>\n",
              "  </thead>\n",
              "  <tbody>\n",
              "    <tr>\n",
              "      <th>Clothes</th>\n",
              "      <td>13</td>\n",
              "    </tr>\n",
              "    <tr>\n",
              "      <th>Cosmetics</th>\n",
              "      <td>13</td>\n",
              "    </tr>\n",
              "    <tr>\n",
              "      <th>Office Supplies</th>\n",
              "      <td>12</td>\n",
              "    </tr>\n",
              "    <tr>\n",
              "      <th>Fruits</th>\n",
              "      <td>10</td>\n",
              "    </tr>\n",
              "    <tr>\n",
              "      <th>Personal Care</th>\n",
              "      <td>10</td>\n",
              "    </tr>\n",
              "    <tr>\n",
              "      <th>Household</th>\n",
              "      <td>9</td>\n",
              "    </tr>\n",
              "    <tr>\n",
              "      <th>Beverages</th>\n",
              "      <td>8</td>\n",
              "    </tr>\n",
              "    <tr>\n",
              "      <th>Baby Food</th>\n",
              "      <td>7</td>\n",
              "    </tr>\n",
              "    <tr>\n",
              "      <th>Cereal</th>\n",
              "      <td>7</td>\n",
              "    </tr>\n",
              "    <tr>\n",
              "      <th>Vegetables</th>\n",
              "      <td>6</td>\n",
              "    </tr>\n",
              "    <tr>\n",
              "      <th>Snacks</th>\n",
              "      <td>3</td>\n",
              "    </tr>\n",
              "    <tr>\n",
              "      <th>Meat</th>\n",
              "      <td>2</td>\n",
              "    </tr>\n",
              "  </tbody>\n",
              "</table>\n",
              "</div><br><label><b>dtype:</b> int64</label>"
            ]
          },
          "metadata": {},
          "execution_count": 9
        }
      ]
    },
    {
      "cell_type": "code",
      "source": [
        "len(df['Item Type'].unique())"
      ],
      "metadata": {
        "colab": {
          "base_uri": "https://localhost:8080/"
        },
        "id": "oil17DbuLEiR",
        "outputId": "fd486e33-1617-4e9e-8a34-bc87548585d1"
      },
      "execution_count": 10,
      "outputs": [
        {
          "output_type": "execute_result",
          "data": {
            "text/plain": [
              "12"
            ]
          },
          "metadata": {},
          "execution_count": 10
        }
      ]
    },
    {
      "cell_type": "markdown",
      "source": [
        "Total 12 items were saled from 2010 to 2017"
      ],
      "metadata": {
        "id": "cNoSBsfLVBiI"
      }
    },
    {
      "cell_type": "code",
      "source": [
        "len(df['Country'].unique())"
      ],
      "metadata": {
        "colab": {
          "base_uri": "https://localhost:8080/"
        },
        "id": "nDrkVTnkLrBm",
        "outputId": "45ba6a62-c11a-48e4-c2e2-c9cc5899cf74"
      },
      "execution_count": 53,
      "outputs": [
        {
          "output_type": "execute_result",
          "data": {
            "text/plain": [
              "76"
            ]
          },
          "metadata": {},
          "execution_count": 53
        }
      ]
    },
    {
      "cell_type": "markdown",
      "source": [
        "76 countries are customers"
      ],
      "metadata": {
        "id": "yhm3dPkSVG03"
      }
    },
    {
      "cell_type": "code",
      "source": [
        "len(df['Region'].unique())"
      ],
      "metadata": {
        "colab": {
          "base_uri": "https://localhost:8080/"
        },
        "id": "Orx3DY_2LyRR",
        "outputId": "21c69db7-bcca-4af5-827f-83079af8563f"
      },
      "execution_count": 54,
      "outputs": [
        {
          "output_type": "execute_result",
          "data": {
            "text/plain": [
              "7"
            ]
          },
          "metadata": {},
          "execution_count": 54
        }
      ]
    },
    {
      "cell_type": "markdown",
      "source": [
        "All customers covered in 7 Regions\n"
      ],
      "metadata": {
        "id": "t9kcPttWVJ0f"
      }
    },
    {
      "cell_type": "code",
      "source": [
        "df.loc[df['Total Profit'].idxmax()]"
      ],
      "metadata": {
        "id": "KiAYA6R9MTVx",
        "outputId": "730cdc8b-d3bd-41a6-9e4b-c14c874723e3",
        "colab": {
          "base_uri": "https://localhost:8080/",
          "height": 523
        }
      },
      "execution_count": 58,
      "outputs": [
        {
          "output_type": "execute_result",
          "data": {
            "text/plain": [
              "Region            Middle East and North Africa\n",
              "Country                               Pakistan\n",
              "Item Type                            Cosmetics\n",
              "Sales Channel                          Offline\n",
              "Order Priority                               L\n",
              "Order Date                            7/5/2013\n",
              "Order ID                             231145322\n",
              "Ship Date                            8/16/2013\n",
              "Units Sold                                9892\n",
              "Unit Price                               437.2\n",
              "Unit Cost                               263.33\n",
              "Total Revenue                        4324782.4\n",
              "Total Cost                          2604860.36\n",
              "Total Profit                        1719922.04\n",
              "Name: 74, dtype: object"
            ],
            "text/html": [
              "<div>\n",
              "<style scoped>\n",
              "    .dataframe tbody tr th:only-of-type {\n",
              "        vertical-align: middle;\n",
              "    }\n",
              "\n",
              "    .dataframe tbody tr th {\n",
              "        vertical-align: top;\n",
              "    }\n",
              "\n",
              "    .dataframe thead th {\n",
              "        text-align: right;\n",
              "    }\n",
              "</style>\n",
              "<table border=\"1\" class=\"dataframe\">\n",
              "  <thead>\n",
              "    <tr style=\"text-align: right;\">\n",
              "      <th></th>\n",
              "      <th>74</th>\n",
              "    </tr>\n",
              "  </thead>\n",
              "  <tbody>\n",
              "    <tr>\n",
              "      <th>Region</th>\n",
              "      <td>Middle East and North Africa</td>\n",
              "    </tr>\n",
              "    <tr>\n",
              "      <th>Country</th>\n",
              "      <td>Pakistan</td>\n",
              "    </tr>\n",
              "    <tr>\n",
              "      <th>Item Type</th>\n",
              "      <td>Cosmetics</td>\n",
              "    </tr>\n",
              "    <tr>\n",
              "      <th>Sales Channel</th>\n",
              "      <td>Offline</td>\n",
              "    </tr>\n",
              "    <tr>\n",
              "      <th>Order Priority</th>\n",
              "      <td>L</td>\n",
              "    </tr>\n",
              "    <tr>\n",
              "      <th>Order Date</th>\n",
              "      <td>7/5/2013</td>\n",
              "    </tr>\n",
              "    <tr>\n",
              "      <th>Order ID</th>\n",
              "      <td>231145322</td>\n",
              "    </tr>\n",
              "    <tr>\n",
              "      <th>Ship Date</th>\n",
              "      <td>8/16/2013</td>\n",
              "    </tr>\n",
              "    <tr>\n",
              "      <th>Units Sold</th>\n",
              "      <td>9892</td>\n",
              "    </tr>\n",
              "    <tr>\n",
              "      <th>Unit Price</th>\n",
              "      <td>437.2</td>\n",
              "    </tr>\n",
              "    <tr>\n",
              "      <th>Unit Cost</th>\n",
              "      <td>263.33</td>\n",
              "    </tr>\n",
              "    <tr>\n",
              "      <th>Total Revenue</th>\n",
              "      <td>4324782.4</td>\n",
              "    </tr>\n",
              "    <tr>\n",
              "      <th>Total Cost</th>\n",
              "      <td>2604860.36</td>\n",
              "    </tr>\n",
              "    <tr>\n",
              "      <th>Total Profit</th>\n",
              "      <td>1719922.04</td>\n",
              "    </tr>\n",
              "  </tbody>\n",
              "</table>\n",
              "</div><br><label><b>dtype:</b> object</label>"
            ]
          },
          "metadata": {},
          "execution_count": 58
        }
      ]
    },
    {
      "cell_type": "markdown",
      "source": [
        "Amazon earned maximum profit of 1719922.04 $ from Pakistan in July 2013 in category COSMETICS"
      ],
      "metadata": {
        "id": "aYMWFWaMWcs1"
      }
    },
    {
      "cell_type": "code",
      "source": [
        "plt.figure(figsize=(10,6))\n",
        "\n",
        "from matplotlib import rcParams\n",
        "\n",
        "rcParams['font.weight'] = 'bold'\n",
        "plt.axes().set_facecolor('lightgray')\n",
        "sns.countplot(x='Item Type', data=df,color='purple', linewidth=2, edgecolor='black')\n",
        "plt.xticks(rotation=45)\n",
        "plt.title('Most sold items', fontsize=20,color='red')\n",
        "plt.xlabel('Item Type', fontsize=15)\n",
        "plt.ylabel('Count', fontsize=15)\n",
        "plt.show()"
      ],
      "metadata": {
        "colab": {
          "base_uri": "https://localhost:8080/",
          "height": 657
        },
        "id": "TZwysB36xaQ3",
        "outputId": "b74ecaf6-9511-499c-ae39-937d37a85cd3"
      },
      "execution_count": 14,
      "outputs": [
        {
          "output_type": "display_data",
          "data": {
            "text/plain": [
              "<Figure size 1000x600 with 1 Axes>"
            ],
            "image/png": "[encoded data removed]"
          },
          "metadata": {}
        }
      ]
    },
    {
      "cell_type": "markdown",
      "source": [
        "Most sold products are CLOTHES & COSMETICS\n",
        "\n",
        "Least sold product is MEAT"
      ],
      "metadata": {
        "id": "cRReL1Lky_Kj"
      }
    },
    {
      "cell_type": "code",
      "source": [
        "df['Ship Date'] = pd.to_datetime(df['Ship Date'])\n",
        "df['Order Date'] = pd.to_datetime(df['Order Date'])"
      ],
      "metadata": {
        "id": "A-QfrZ2Zxh2u"
      },
      "execution_count": 15,
      "outputs": []
    },
    {
      "cell_type": "code",
      "source": [
        "#Finding highest profitable month\n",
        "df.loc[df['Total Profit']== df['Total Profit'].max(),['Order Date','Total Profit','Item Type']]"
      ],
      "metadata": {
        "colab": {
          "base_uri": "https://localhost:8080/",
          "height": 80
        },
        "id": "l2bx5YCz5Mex",
        "outputId": "be9e89a1-78fb-414d-9476-cca5ed8acf46"
      },
      "execution_count": 16,
      "outputs": [
        {
          "output_type": "execute_result",
          "data": {
            "text/plain": [
              "   Order Date  Total Profit  Item Type\n",
              "74 2013-07-05    1719922.04  Cosmetics"
            ],
            "text/html": [
              "\n",
              "  <div id=\"df-ccc1b507-1ed8-4f88-af42-6bd349c22491\" class=\"colab-df-container\">\n",
              "    <div>\n",
              "<style scoped>\n",
              "    .dataframe tbody tr th:only-of-type {\n",
              "        vertical-align: middle;\n",
              "    }\n",
              "\n",
              "    .dataframe tbody tr th {\n",
              "        vertical-align: top;\n",
              "    }\n",
              "\n",
              "    .dataframe thead th {\n",
              "        text-align: right;\n",
              "    }\n",
              "</style>\n",
              "<table border=\"1\" class=\"dataframe\">\n",
              "  <thead>\n",
              "    <tr style=\"text-align: right;\">\n",
              "      <th></th>\n",
              "      <th>Order Date</th>\n",
              "      <th>Total Profit</th>\n",
              "      <th>Item Type</th>\n",
              "    </tr>\n",
              "  </thead>\n",
              "  <tbody>\n",
              "    <tr>\n",
              "      <th>74</th>\n",
              "      <td>2013-07-05</td>\n",
              "      <td>1719922.04</td>\n",
              "      <td>Cosmetics</td>\n",
              "    </tr>\n",
              "  </tbody>\n",
              "</table>\n",
              "</div>\n",
              "    <div class=\"colab-df-buttons\">\n",
              "\n",
              "  <div class=\"colab-df-container\">\n",
              "    <button class=\"colab-df-convert\" onclick=\"convertToInteractive('df-ccc1b507-1ed8-4f88-af42-6bd349c22491')\"\n",
              "            title=\"Convert this dataframe to an interactive table.\"\n",
              "            style=\"display:none;\">\n",
              "\n",
              "  <svg xmlns=\"http://www.w3.org/2000/svg\" height=\"24px\" viewBox=\"0 -960 960 960\">\n",
              "    <path d=\"M120-120v-720h720v720H120Zm60-500h600v-160H180v160Zm220 220h160v-160H400v160Zm0 220h160v-160H400v160ZM180-400h160v-160H180v160Zm440 0h160v-160H620v160ZM180-180h160v-160H180v160Zm440 0h160v-160H620v160Z\"/>\n",
              "  </svg>\n",
              "    </button>\n",
              "\n",
              "  <style>\n",
              "    .colab-df-container {\n",
              "      display:flex;\n",
              "      gap: 12px;\n",
              "    }\n",
              "\n",
              "    .colab-df-convert {\n",
              "      background-color: #E8F0FE;\n",
              "      border: none;\n",
              "      border-radius: 50%;\n",
              "      cursor: pointer;\n",
              "      display: none;\n",
              "      fill: #1967D2;\n",
              "      height: 32px;\n",
              "      padding: 0 0 0 0;\n",
              "      width: 32px;\n",
              "    }\n",
              "\n",
              "    .colab-df-convert:hover {\n",
              "      background-color: #E2EBFA;\n",
              "      box-shadow: 0px 1px 2px rgba(60, 64, 67, 0.3), 0px 1px 3px 1px rgba(60, 64, 67, 0.15);\n",
              "      fill: #174EA6;\n",
              "    }\n",
              "\n",
              "    .colab-df-buttons div {\n",
              "      margin-bottom: 4px;\n",
              "    }\n",
              "\n",
              "    [theme=dark] .colab-df-convert {\n",
              "      background-color: #3B4455;\n",
              "      fill: #D2E3FC;\n",
              "    }\n",
              "\n",
              "    [theme=dark] .colab-df-convert:hover {\n",
              "      background-color: #434B5C;\n",
              "      box-shadow: 0px 1px 3px 1px rgba(0, 0, 0, 0.15);\n",
              "      filter: drop-shadow(0px 1px 2px rgba(0, 0, 0, 0.3));\n",
              "      fill: #FFFFFF;\n",
              "    }\n",
              "  </style>\n",
              "\n",
              "    <script>\n",
              "      const buttonEl =\n",
              "        document.querySelector('#df-ccc1b507-1ed8-4f88-af42-6bd349c22491 button.colab-df-convert');\n",
              "      buttonEl.style.display =\n",
              "        google.colab.kernel.accessAllowed ? 'block' : 'none';\n",
              "\n",
              "      async function convertToInteractive(key) {\n",
              "        const element = document.querySelector('#df-ccc1b507-1ed8-4f88-af42-6bd349c22491');\n",
              "        const dataTable =\n",
              "          await google.colab.kernel.invokeFunction('convertToInteractive',\n",
              "                                                    [key], {});\n",
              "        if (!dataTable) return;\n",
              "\n",
              "        const docLinkHtml = 'Like what you see? Visit the ' +\n",
              "          '<a target=\"_blank\" href=https://colab.research.google.com/notebooks/data_table.ipynb>data table notebook</a>'\n",
              "          + ' to learn more about interactive tables.';\n",
              "        element.innerHTML = '';\n",
              "        dataTable['output_type'] = 'display_data';\n",
              "        await google.colab.output.renderOutput(dataTable, element);\n",
              "        const docLink = document.createElement('div');\n",
              "        docLink.innerHTML = docLinkHtml;\n",
              "        element.appendChild(docLink);\n",
              "      }\n",
              "    </script>\n",
              "  </div>\n",
              "\n",
              "\n",
              "    </div>\n",
              "  </div>\n"
            ],
            "application/vnd.google.colaboratory.intrinsic+json": {
              "type": "dataframe",
              "summary": "{\n  \"name\": \"df\",\n  \"rows\": 1,\n  \"fields\": [\n    {\n      \"column\": \"Order Date\",\n      \"properties\": {\n        \"dtype\": \"date\",\n        \"min\": \"2013-07-05 00:00:00\",\n        \"max\": \"2013-07-05 00:00:00\",\n        \"num_unique_values\": 1,\n        \"samples\": [\n          \"2013-07-05 00:00:00\"\n        ],\n        \"semantic_type\": \"\",\n        \"description\": \"\"\n      }\n    },\n    {\n      \"column\": \"Total Profit\",\n      \"properties\": {\n        \"dtype\": \"number\",\n        \"std\": null,\n        \"min\": 1719922.04,\n        \"max\": 1719922.04,\n        \"num_unique_values\": 1,\n        \"samples\": [\n          1719922.04\n        ],\n        \"semantic_type\": \"\",\n        \"description\": \"\"\n      }\n    },\n    {\n      \"column\": \"Item Type\",\n      \"properties\": {\n        \"dtype\": \"string\",\n        \"num_unique_values\": 1,\n        \"samples\": [\n          \"Cosmetics\"\n        ],\n        \"semantic_type\": \"\",\n        \"description\": \"\"\n      }\n    }\n  ]\n}"
            }
          },
          "metadata": {},
          "execution_count": 16
        }
      ]
    },
    {
      "cell_type": "code",
      "source": [
        "df.loc[df['Total Profit']== df['Total Profit'].min(),['Order Date','Total Profit','Item Type']]\n"
      ],
      "metadata": {
        "colab": {
          "base_uri": "https://localhost:8080/",
          "height": 80
        },
        "id": "GS1kOoGT-CF6",
        "outputId": "10663106-390a-4226-9945-8986cdb9ffc2"
      },
      "execution_count": 17,
      "outputs": [
        {
          "output_type": "execute_result",
          "data": {
            "text/plain": [
              "   Order Date  Total Profit Item Type\n",
              "88 2012-04-30       1258.02    Fruits"
            ],
            "text/html": [
              "\n",
              "  <div id=\"df-352451cb-3886-4614-b6ba-c5db7a2a41f2\" class=\"colab-df-container\">\n",
              "    <div>\n",
              "<style scoped>\n",
              "    .dataframe tbody tr th:only-of-type {\n",
              "        vertical-align: middle;\n",
              "    }\n",
              "\n",
              "    .dataframe tbody tr th {\n",
              "        vertical-align: top;\n",
              "    }\n",
              "\n",
              "    .dataframe thead th {\n",
              "        text-align: right;\n",
              "    }\n",
              "</style>\n",
              "<table border=\"1\" class=\"dataframe\">\n",
              "  <thead>\n",
              "    <tr style=\"text-align: right;\">\n",
              "      <th></th>\n",
              "      <th>Order Date</th>\n",
              "      <th>Total Profit</th>\n",
              "      <th>Item Type</th>\n",
              "    </tr>\n",
              "  </thead>\n",
              "  <tbody>\n",
              "    <tr>\n",
              "      <th>88</th>\n",
              "      <td>2012-04-30</td>\n",
              "      <td>1258.02</td>\n",
              "      <td>Fruits</td>\n",
              "    </tr>\n",
              "  </tbody>\n",
              "</table>\n",
              "</div>\n",
              "    <div class=\"colab-df-buttons\">\n",
              "\n",
              "  <div class=\"colab-df-container\">\n",
              "    <button class=\"colab-df-convert\" onclick=\"convertToInteractive('df-352451cb-3886-4614-b6ba-c5db7a2a41f2')\"\n",
              "            title=\"Convert this dataframe to an interactive table.\"\n",
              "            style=\"display:none;\">\n",
              "\n",
              "  <svg xmlns=\"http://www.w3.org/2000/svg\" height=\"24px\" viewBox=\"0 -960 960 960\">\n",
              "    <path d=\"M120-120v-720h720v720H120Zm60-500h600v-160H180v160Zm220 220h160v-160H400v160Zm0 220h160v-160H400v160ZM180-400h160v-160H180v160Zm440 0h160v-160H620v160ZM180-180h160v-160H180v160Zm440 0h160v-160H620v160Z\"/>\n",
              "  </svg>\n",
              "    </button>\n",
              "\n",
              "  <style>\n",
              "    .colab-df-container {\n",
              "      display:flex;\n",
              "      gap: 12px;\n",
              "    }\n",
              "\n",
              "    .colab-df-convert {\n",
              "      background-color: #E8F0FE;\n",
              "      border: none;\n",
              "      border-radius: 50%;\n",
              "      cursor: pointer;\n",
              "      display: none;\n",
              "      fill: #1967D2;\n",
              "      height: 32px;\n",
              "      padding: 0 0 0 0;\n",
              "      width: 32px;\n",
              "    }\n",
              "\n",
              "    .colab-df-convert:hover {\n",
              "      background-color: #E2EBFA;\n",
              "      box-shadow: 0px 1px 2px rgba(60, 64, 67, 0.3), 0px 1px 3px 1px rgba(60, 64, 67, 0.15);\n",
              "      fill: #174EA6;\n",
              "    }\n",
              "\n",
              "    .colab-df-buttons div {\n",
              "      margin-bottom: 4px;\n",
              "    }\n",
              "\n",
              "    [theme=dark] .colab-df-convert {\n",
              "      background-color: #3B4455;\n",
              "      fill: #D2E3FC;\n",
              "    }\n",
              "\n",
              "    [theme=dark] .colab-df-convert:hover {\n",
              "      background-color: #434B5C;\n",
              "      box-shadow: 0px 1px 3px 1px rgba(0, 0, 0, 0.15);\n",
              "      filter: drop-shadow(0px 1px 2px rgba(0, 0, 0, 0.3));\n",
              "      fill: #FFFFFF;\n",
              "    }\n",
              "  </style>\n",
              "\n",
              "    <script>\n",
              "      const buttonEl =\n",
              "        document.querySelector('#df-352451cb-3886-4614-b6ba-c5db7a2a41f2 button.colab-df-convert');\n",
              "      buttonEl.style.display =\n",
              "        google.colab.kernel.accessAllowed ? 'block' : 'none';\n",
              "\n",
              "      async function convertToInteractive(key) {\n",
              "        const element = document.querySelector('#df-352451cb-3886-4614-b6ba-c5db7a2a41f2');\n",
              "        const dataTable =\n",
              "          await google.colab.kernel.invokeFunction('convertToInteractive',\n",
              "                                                    [key], {});\n",
              "        if (!dataTable) return;\n",
              "\n",
              "        const docLinkHtml = 'Like what you see? Visit the ' +\n",
              "          '<a target=\"_blank\" href=https://colab.research.google.com/notebooks/data_table.ipynb>data table notebook</a>'\n",
              "          + ' to learn more about interactive tables.';\n",
              "        element.innerHTML = '';\n",
              "        dataTable['output_type'] = 'display_data';\n",
              "        await google.colab.output.renderOutput(dataTable, element);\n",
              "        const docLink = document.createElement('div');\n",
              "        docLink.innerHTML = docLinkHtml;\n",
              "        element.appendChild(docLink);\n",
              "      }\n",
              "    </script>\n",
              "  </div>\n",
              "\n",
              "\n",
              "    </div>\n",
              "  </div>\n"
            ],
            "application/vnd.google.colaboratory.intrinsic+json": {
              "type": "dataframe",
              "summary": "{\n  \"name\": \"df\",\n  \"rows\": 1,\n  \"fields\": [\n    {\n      \"column\": \"Order Date\",\n      \"properties\": {\n        \"dtype\": \"date\",\n        \"min\": \"2012-04-30 00:00:00\",\n        \"max\": \"2012-04-30 00:00:00\",\n        \"num_unique_values\": 1,\n        \"samples\": [\n          \"2012-04-30 00:00:00\"\n        ],\n        \"semantic_type\": \"\",\n        \"description\": \"\"\n      }\n    },\n    {\n      \"column\": \"Total Profit\",\n      \"properties\": {\n        \"dtype\": \"number\",\n        \"std\": null,\n        \"min\": 1258.02,\n        \"max\": 1258.02,\n        \"num_unique_values\": 1,\n        \"samples\": [\n          1258.02\n        ],\n        \"semantic_type\": \"\",\n        \"description\": \"\"\n      }\n    },\n    {\n      \"column\": \"Item Type\",\n      \"properties\": {\n        \"dtype\": \"string\",\n        \"num_unique_values\": 1,\n        \"samples\": [\n          \"Fruits\"\n        ],\n        \"semantic_type\": \"\",\n        \"description\": \"\"\n      }\n    }\n  ]\n}"
            }
          },
          "metadata": {},
          "execution_count": 17
        }
      ]
    },
    {
      "cell_type": "code",
      "source": [
        "#Month wise trend\n",
        "month_wise_trend = df.groupby(df['Order Date'].dt.month)['Total Profit'].sum()\n",
        "month_wise_trend"
      ],
      "metadata": {
        "colab": {
          "base_uri": "https://localhost:8080/",
          "height": 491
        },
        "id": "rTswKTk6-BoY",
        "outputId": "eadfa26c-ff12-48d5-f365-5fecbf560f67"
      },
      "execution_count": 18,
      "outputs": [
        {
          "output_type": "execute_result",
          "data": {
            "text/plain": [
              "Order Date\n",
              "1     2816857.02\n",
              "2     7072050.51\n",
              "3      928351.06\n",
              "4     4760208.35\n",
              "5     4582692.30\n",
              "6     2185379.43\n",
              "7     5578463.06\n",
              "8      579276.67\n",
              "9     2344166.03\n",
              "10    4506923.25\n",
              "11    6457600.65\n",
              "12    2356230.07\n",
              "Name: Total Profit, dtype: float64"
            ],
            "text/html": [
              "<div>\n",
              "<style scoped>\n",
              "    .dataframe tbody tr th:only-of-type {\n",
              "        vertical-align: middle;\n",
              "    }\n",
              "\n",
              "    .dataframe tbody tr th {\n",
              "        vertical-align: top;\n",
              "    }\n",
              "\n",
              "    .dataframe thead th {\n",
              "        text-align: right;\n",
              "    }\n",
              "</style>\n",
              "<table border=\"1\" class=\"dataframe\">\n",
              "  <thead>\n",
              "    <tr style=\"text-align: right;\">\n",
              "      <th></th>\n",
              "      <th>Total Profit</th>\n",
              "    </tr>\n",
              "    <tr>\n",
              "      <th>Order Date</th>\n",
              "      <th></th>\n",
              "    </tr>\n",
              "  </thead>\n",
              "  <tbody>\n",
              "    <tr>\n",
              "      <th>1</th>\n",
              "      <td>2816857.02</td>\n",
              "    </tr>\n",
              "    <tr>\n",
              "      <th>2</th>\n",
              "      <td>7072050.51</td>\n",
              "    </tr>\n",
              "    <tr>\n",
              "      <th>3</th>\n",
              "      <td>928351.06</td>\n",
              "    </tr>\n",
              "    <tr>\n",
              "      <th>4</th>\n",
              "      <td>4760208.35</td>\n",
              "    </tr>\n",
              "    <tr>\n",
              "      <th>5</th>\n",
              "      <td>4582692.30</td>\n",
              "    </tr>\n",
              "    <tr>\n",
              "      <th>6</th>\n",
              "      <td>2185379.43</td>\n",
              "    </tr>\n",
              "    <tr>\n",
              "      <th>7</th>\n",
              "      <td>5578463.06</td>\n",
              "    </tr>\n",
              "    <tr>\n",
              "      <th>8</th>\n",
              "      <td>579276.67</td>\n",
              "    </tr>\n",
              "    <tr>\n",
              "      <th>9</th>\n",
              "      <td>2344166.03</td>\n",
              "    </tr>\n",
              "    <tr>\n",
              "      <th>10</th>\n",
              "      <td>4506923.25</td>\n",
              "    </tr>\n",
              "    <tr>\n",
              "      <th>11</th>\n",
              "      <td>6457600.65</td>\n",
              "    </tr>\n",
              "    <tr>\n",
              "      <th>12</th>\n",
              "      <td>2356230.07</td>\n",
              "    </tr>\n",
              "  </tbody>\n",
              "</table>\n",
              "</div><br><label><b>dtype:</b> float64</label>"
            ]
          },
          "metadata": {},
          "execution_count": 18
        }
      ]
    },
    {
      "cell_type": "code",
      "source": [
        "month_wise_trend.max()"
      ],
      "metadata": {
        "colab": {
          "base_uri": "https://localhost:8080/"
        },
        "id": "cieAnKh-5etp",
        "outputId": "299b66fa-bfac-4464-841e-ed51098ec4e5"
      },
      "execution_count": 19,
      "outputs": [
        {
          "output_type": "execute_result",
          "data": {
            "text/plain": [
              "7072050.510000001"
            ]
          },
          "metadata": {},
          "execution_count": 19
        }
      ]
    },
    {
      "cell_type": "code",
      "source": [
        "month_wise_trend.min()\n"
      ],
      "metadata": {
        "colab": {
          "base_uri": "https://localhost:8080/"
        },
        "id": "_Yjj3QRRCsDi",
        "outputId": "6f7512e2-7151-4754-a769-8ee5ab56c0c2"
      },
      "execution_count": 20,
      "outputs": [
        {
          "output_type": "execute_result",
          "data": {
            "text/plain": [
              "579276.6699999999"
            ]
          },
          "metadata": {},
          "execution_count": 20
        }
      ]
    },
    {
      "cell_type": "code",
      "source": [
        "plt.figure(figsize=(10,6))\n",
        "plt.axes().set_facecolor('lightgray')\n",
        "plt.bar(month_wise_trend.index,month_wise_trend, color='seagreen',linewidth=2,edgecolor='black')\n",
        "plt.xlabel('Month',fontsize=15)\n",
        "plt.xticks(np.arange(1,13))\n",
        "plt.ylabel('Total Profit',fontsize=15)\n",
        "plt.title('Month wise trend',fontsize=20,color='red')\n",
        "plt.show()"
      ],
      "metadata": {
        "colab": {
          "base_uri": "https://localhost:8080/",
          "height": 578
        },
        "id": "WKKc2yt25g9O",
        "outputId": "7f064a19-efdd-4b8c-b660-09e0b1f2a3a0"
      },
      "execution_count": 21,
      "outputs": [
        {
          "output_type": "display_data",
          "data": {
            "text/plain": [
              "<Figure size 1000x600 with 1 Axes>"
            ],
            "image/png": "[encoded data removed]"
          },
          "metadata": {}
        }
      ]
    },
    {
      "cell_type": "markdown",
      "source": [
        "Maximum profit in February\n",
        "then NOV and july is also good"
      ],
      "metadata": {
        "id": "GRL3KooFU9Ci"
      }
    },
    {
      "cell_type": "code",
      "source": [
        "#Year wise trend\n",
        "year_wise_trend = df.groupby(df['Order Date'].dt.year)['Total Profit'].sum()\n",
        "year_wise_trend"
      ],
      "metadata": {
        "colab": {
          "base_uri": "https://localhost:8080/",
          "height": 366
        },
        "id": "s81Xsi6G55WA",
        "outputId": "29399c91-ff2d-4067-9b4e-69c2386733ab"
      },
      "execution_count": 22,
      "outputs": [
        {
          "output_type": "execute_result",
          "data": {
            "text/plain": [
              "Order Date\n",
              "2010    6629567.43\n",
              "2011    2741008.23\n",
              "2012    9213010.12\n",
              "2013    6715420.04\n",
              "2014    5879461.68\n",
              "2015    3996539.44\n",
              "2016    4903838.01\n",
              "2017    4089353.45\n",
              "Name: Total Profit, dtype: float64"
            ],
            "text/html": [
              "<div>\n",
              "<style scoped>\n",
              "    .dataframe tbody tr th:only-of-type {\n",
              "        vertical-align: middle;\n",
              "    }\n",
              "\n",
              "    .dataframe tbody tr th {\n",
              "        vertical-align: top;\n",
              "    }\n",
              "\n",
              "    .dataframe thead th {\n",
              "        text-align: right;\n",
              "    }\n",
              "</style>\n",
              "<table border=\"1\" class=\"dataframe\">\n",
              "  <thead>\n",
              "    <tr style=\"text-align: right;\">\n",
              "      <th></th>\n",
              "      <th>Total Profit</th>\n",
              "    </tr>\n",
              "    <tr>\n",
              "      <th>Order Date</th>\n",
              "      <th></th>\n",
              "    </tr>\n",
              "  </thead>\n",
              "  <tbody>\n",
              "    <tr>\n",
              "      <th>2010</th>\n",
              "      <td>6629567.43</td>\n",
              "    </tr>\n",
              "    <tr>\n",
              "      <th>2011</th>\n",
              "      <td>2741008.23</td>\n",
              "    </tr>\n",
              "    <tr>\n",
              "      <th>2012</th>\n",
              "      <td>9213010.12</td>\n",
              "    </tr>\n",
              "    <tr>\n",
              "      <th>2013</th>\n",
              "      <td>6715420.04</td>\n",
              "    </tr>\n",
              "    <tr>\n",
              "      <th>2014</th>\n",
              "      <td>5879461.68</td>\n",
              "    </tr>\n",
              "    <tr>\n",
              "      <th>2015</th>\n",
              "      <td>3996539.44</td>\n",
              "    </tr>\n",
              "    <tr>\n",
              "      <th>2016</th>\n",
              "      <td>4903838.01</td>\n",
              "    </tr>\n",
              "    <tr>\n",
              "      <th>2017</th>\n",
              "      <td>4089353.45</td>\n",
              "    </tr>\n",
              "  </tbody>\n",
              "</table>\n",
              "</div><br><label><b>dtype:</b> float64</label>"
            ]
          },
          "metadata": {},
          "execution_count": 22
        }
      ]
    },
    {
      "cell_type": "code",
      "source": [
        "plt.figure(figsize=(10,6))\n",
        "plt.axes().set_facecolor('lightgray')\n",
        "plt.bar(year_wise_trend.index,year_wise_trend, color='olive',linewidth=2,edgecolor='black')\n",
        "plt.xlabel('Year',fontsize=15)\n",
        "plt.ylabel('Total Profit',fontsize=15)\n",
        "plt.title('Year wise trend',fontsize=20,color='red')\n",
        "plt.show()"
      ],
      "metadata": {
        "colab": {
          "base_uri": "https://localhost:8080/",
          "height": 578
        },
        "id": "9aVeb8ZPc7f-",
        "outputId": "89070e1b-bfa7-4418-c4d3-afcc2c54da05"
      },
      "execution_count": 23,
      "outputs": [
        {
          "output_type": "display_data",
          "data": {
            "text/plain": [
              "<Figure size 1000x600 with 1 Axes>"
            ],
            "image/png": "[encoded data removed]"
          },
          "metadata": {}
        }
      ]
    },
    {
      "cell_type": "markdown",
      "source": [
        "Maximum profit in year 2012\n",
        "minimum in 2011"
      ],
      "metadata": {
        "id": "Ua5MJW1qdo4h"
      }
    },
    {
      "cell_type": "code",
      "source": [
        "\n",
        "# Year-month wise trend\n",
        "\n",
        "year_month_wise_trend = df.groupby([df['Order Date'].dt.year, df['Order Date'].dt.month])['Total Profit'].sum()\n",
        "year_month_wise_trend.head()\n",
        "\n",
        "# Extract years and months for plotting\n",
        "years, months = zip(*year_month_wise_trend.index)\n",
        "years = set(years)\n",
        "\n",
        "# Plotting\n",
        "fig, axes = plt.subplots(len(years), 1, figsize=(12, 6 * len(years)), sharex=True)\n",
        "plt.subplots_adjust(hspace=0.5)\n",
        "\n",
        "for i, year in enumerate(years):\n",
        "  year_data = year_month_wise_trend[year]\n",
        "  axes[i].bar(year_data.index, year_data.values, color='skyblue', edgecolor='black')\n",
        "  axes[i].set_title(f'Year {year}', fontsize=15)\n",
        "  axes[i].set_xlabel('Month', fontsize=12)\n",
        "  axes[i].set_ylabel('Total Profit', fontsize=12)\n",
        "  axes[i].set_xticks(np.arange(1, 13))\n",
        "\n",
        "plt.show()\n"
      ],
      "metadata": {
        "colab": {
          "base_uri": "https://localhost:8080/",
          "height": 1000
        },
        "id": "ScYaQ2ZZNG6T",
        "outputId": "bc301687-17e3-4c2a-9d17-d2fbe7ba2ea1"
      },
      "execution_count": 24,
      "outputs": [
        {
          "output_type": "display_data",
          "data": {
            "text/plain": [
              "<Figure size 1200x4800 with 8 Axes>"
            ],
            "image/png": "[encoded data removed]"
          },
          "metadata": {}
        }
      ]
    },
    {
      "cell_type": "code",
      "source": [
        "max_profit= year_month_wise_trend.idxmax()\n",
        "max_profit"
      ],
      "metadata": {
        "colab": {
          "base_uri": "https://localhost:8080/"
        },
        "id": "qqV7RuGoPKl1",
        "outputId": "ba2d8cce-eb13-4810-d65f-8f86e1dca88d"
      },
      "execution_count": 25,
      "outputs": [
        {
          "output_type": "execute_result",
          "data": {
            "text/plain": [
              "(2013, 7)"
            ]
          },
          "metadata": {},
          "execution_count": 25
        }
      ]
    },
    {
      "cell_type": "code",
      "source": [
        "min_profit = year_month_wise_trend.idxmin()\n",
        "min_profit"
      ],
      "metadata": {
        "colab": {
          "base_uri": "https://localhost:8080/"
        },
        "id": "-5kS9kGoPNvM",
        "outputId": "a77ab8b3-553c-45ba-8913-5985fce2fa46"
      },
      "execution_count": 26,
      "outputs": [
        {
          "output_type": "execute_result",
          "data": {
            "text/plain": [
              "(2015, 8)"
            ]
          },
          "metadata": {},
          "execution_count": 26
        }
      ]
    },
    {
      "cell_type": "code",
      "source": [
        "df.info()"
      ],
      "metadata": {
        "colab": {
          "base_uri": "https://localhost:8080/"
        },
        "id": "agW-JkplP6K5",
        "outputId": "f32f6358-d4f9-4a35-a5d5-65d613584c28"
      },
      "execution_count": 27,
      "outputs": [
        {
          "output_type": "stream",
          "name": "stdout",
          "text": [
            "<class 'pandas.core.frame.DataFrame'>\n",
            "RangeIndex: 100 entries, 0 to 99\n",
            "Data columns (total 14 columns):\n",
            " #   Column          Non-Null Count  Dtype         \n",
            "---  ------          --------------  -----         \n",
            " 0   Region          100 non-null    object        \n",
            " 1   Country         100 non-null    object        \n",
            " 2   Item Type       100 non-null    object        \n",
            " 3   Sales Channel   100 non-null    object        \n",
            " 4   Order Priority  100 non-null    object        \n",
            " 5   Order Date      100 non-null    datetime64[ns]\n",
            " 6   Order ID        100 non-null    int64         \n",
            " 7   Ship Date       100 non-null    datetime64[ns]\n",
            " 8   Units Sold      100 non-null    int64         \n",
            " 9   Unit Price      100 non-null    float64       \n",
            " 10  Unit Cost       100 non-null    float64       \n",
            " 11  Total Revenue   100 non-null    float64       \n",
            " 12  Total Cost      100 non-null    float64       \n",
            " 13  Total Profit    100 non-null    float64       \n",
            "dtypes: datetime64[ns](2), float64(5), int64(2), object(5)\n",
            "memory usage: 11.1+ KB\n"
          ]
        }
      ]
    },
    {
      "cell_type": "code",
      "source": [
        "# Channel wise trend\n",
        "channel_wise_trend = df.groupby(df['Sales Channel'])['Total Profit'].sum()\n",
        "channel_wise_trend"
      ],
      "metadata": {
        "colab": {
          "base_uri": "https://localhost:8080/",
          "height": 178
        },
        "id": "137lxLGARJjd",
        "outputId": "4b74ac11-9b2c-459c-fb57-ea76694eb516"
      },
      "execution_count": 28,
      "outputs": [
        {
          "output_type": "execute_result",
          "data": {
            "text/plain": [
              "Sales Channel\n",
              "Offline    24920726.67\n",
              "Online     19247471.73\n",
              "Name: Total Profit, dtype: float64"
            ],
            "text/html": [
              "<div>\n",
              "<style scoped>\n",
              "    .dataframe tbody tr th:only-of-type {\n",
              "        vertical-align: middle;\n",
              "    }\n",
              "\n",
              "    .dataframe tbody tr th {\n",
              "        vertical-align: top;\n",
              "    }\n",
              "\n",
              "    .dataframe thead th {\n",
              "        text-align: right;\n",
              "    }\n",
              "</style>\n",
              "<table border=\"1\" class=\"dataframe\">\n",
              "  <thead>\n",
              "    <tr style=\"text-align: right;\">\n",
              "      <th></th>\n",
              "      <th>Total Profit</th>\n",
              "    </tr>\n",
              "    <tr>\n",
              "      <th>Sales Channel</th>\n",
              "      <th></th>\n",
              "    </tr>\n",
              "  </thead>\n",
              "  <tbody>\n",
              "    <tr>\n",
              "      <th>Offline</th>\n",
              "      <td>24920726.67</td>\n",
              "    </tr>\n",
              "    <tr>\n",
              "      <th>Online</th>\n",
              "      <td>19247471.73</td>\n",
              "    </tr>\n",
              "  </tbody>\n",
              "</table>\n",
              "</div><br><label><b>dtype:</b> float64</label>"
            ]
          },
          "metadata": {},
          "execution_count": 28
        }
      ]
    },
    {
      "cell_type": "markdown",
      "source": [
        "Offline channel has more potential than Online channel"
      ],
      "metadata": {
        "id": "F1NtZPgjW4Up"
      }
    },
    {
      "cell_type": "code",
      "source": [
        "# Country wise channel profits\n",
        "country_wise_channel_profits = df.groupby(['Country', 'Sales Channel'])['Total Profit'].sum()\n",
        "country_wise_channel_profits"
      ],
      "metadata": {
        "colab": {
          "base_uri": "https://localhost:8080/",
          "height": 489
        },
        "id": "KqVHcL5YR6Dq",
        "outputId": "3d267b43-eb8b-454b-b5e3-6b85ced564c1"
      },
      "execution_count": 29,
      "outputs": [
        {
          "output_type": "execute_result",
          "data": {
            "text/plain": [
              "Country         Sales Channel\n",
              "Albania         Online           166635.36\n",
              "Angola          Offline          693911.51\n",
              "Australia       Offline          207450.12\n",
              "                Online           369155.00\n",
              "Austria         Offline          495007.89\n",
              "                                   ...    \n",
              "Turkmenistan    Offline          634745.90\n",
              "                Online           632512.50\n",
              "Tuvalu          Offline          951410.50\n",
              "United Kingdom  Online            46735.86\n",
              "Zambia          Online           225246.90\n",
              "Name: Total Profit, Length: 87, dtype: float64"
            ],
            "text/html": [
              "<div>\n",
              "<style scoped>\n",
              "    .dataframe tbody tr th:only-of-type {\n",
              "        vertical-align: middle;\n",
              "    }\n",
              "\n",
              "    .dataframe tbody tr th {\n",
              "        vertical-align: top;\n",
              "    }\n",
              "\n",
              "    .dataframe thead th {\n",
              "        text-align: right;\n",
              "    }\n",
              "</style>\n",
              "<table border=\"1\" class=\"dataframe\">\n",
              "  <thead>\n",
              "    <tr style=\"text-align: right;\">\n",
              "      <th></th>\n",
              "      <th></th>\n",
              "      <th>Total Profit</th>\n",
              "    </tr>\n",
              "    <tr>\n",
              "      <th>Country</th>\n",
              "      <th>Sales Channel</th>\n",
              "      <th></th>\n",
              "    </tr>\n",
              "  </thead>\n",
              "  <tbody>\n",
              "    <tr>\n",
              "      <th>Albania</th>\n",
              "      <th>Online</th>\n",
              "      <td>166635.36</td>\n",
              "    </tr>\n",
              "    <tr>\n",
              "      <th>Angola</th>\n",
              "      <th>Offline</th>\n",
              "      <td>693911.51</td>\n",
              "    </tr>\n",
              "    <tr>\n",
              "      <th rowspan=\"2\" valign=\"top\">Australia</th>\n",
              "      <th>Offline</th>\n",
              "      <td>207450.12</td>\n",
              "    </tr>\n",
              "    <tr>\n",
              "      <th>Online</th>\n",
              "      <td>369155.00</td>\n",
              "    </tr>\n",
              "    <tr>\n",
              "      <th>Austria</th>\n",
              "      <th>Offline</th>\n",
              "      <td>495007.89</td>\n",
              "    </tr>\n",
              "    <tr>\n",
              "      <th>...</th>\n",
              "      <th>...</th>\n",
              "      <td>...</td>\n",
              "    </tr>\n",
              "    <tr>\n",
              "      <th rowspan=\"2\" valign=\"top\">Turkmenistan</th>\n",
              "      <th>Offline</th>\n",
              "      <td>634745.90</td>\n",
              "    </tr>\n",
              "    <tr>\n",
              "      <th>Online</th>\n",
              "      <td>632512.50</td>\n",
              "    </tr>\n",
              "    <tr>\n",
              "      <th>Tuvalu</th>\n",
              "      <th>Offline</th>\n",
              "      <td>951410.50</td>\n",
              "    </tr>\n",
              "    <tr>\n",
              "      <th>United Kingdom</th>\n",
              "      <th>Online</th>\n",
              "      <td>46735.86</td>\n",
              "    </tr>\n",
              "    <tr>\n",
              "      <th>Zambia</th>\n",
              "      <th>Online</th>\n",
              "      <td>225246.90</td>\n",
              "    </tr>\n",
              "  </tbody>\n",
              "</table>\n",
              "<p>87 rows × 1 columns</p>\n",
              "</div><br><label><b>dtype:</b> float64</label>"
            ]
          },
          "metadata": {},
          "execution_count": 29
        }
      ]
    },
    {
      "cell_type": "code",
      "source": [
        "country_wise_channel_profits.idxmax()"
      ],
      "metadata": {
        "colab": {
          "base_uri": "https://localhost:8080/"
        },
        "id": "9bxZFuKkSDVc",
        "outputId": "423da80f-2779-4d7b-f4e4-22b36848f284"
      },
      "execution_count": 30,
      "outputs": [
        {
          "output_type": "execute_result",
          "data": {
            "text/plain": [
              "('Pakistan', 'Offline')"
            ]
          },
          "metadata": {},
          "execution_count": 30
        }
      ]
    },
    {
      "cell_type": "code",
      "source": [
        "country_wise_channel_profits.idxmin()"
      ],
      "metadata": {
        "colab": {
          "base_uri": "https://localhost:8080/"
        },
        "id": "5ctTKvhRSMMz",
        "outputId": "49af7bcc-b4d3-4510-aaac-b34f47ec3cc2"
      },
      "execution_count": 31,
      "outputs": [
        {
          "output_type": "execute_result",
          "data": {
            "text/plain": [
              "('Kuwait', 'Online')"
            ]
          },
          "metadata": {},
          "execution_count": 31
        }
      ]
    },
    {
      "cell_type": "code",
      "source": [
        "\n",
        "\n",
        "countries_using_both_channels = df.groupby('Country')['Sales Channel'].nunique()\n",
        "countries_using_both_channels[countries_using_both_channels == 2]\n"
      ],
      "metadata": {
        "colab": {
          "base_uri": "https://localhost:8080/",
          "height": 460
        },
        "id": "_EmkddEDSnIB",
        "outputId": "d5ffed65-acd5-4f63-edd1-a631e11b2f1f"
      },
      "execution_count": 32,
      "outputs": [
        {
          "output_type": "execute_result",
          "data": {
            "text/plain": [
              "Country\n",
              "Australia                2\n",
              "Cameroon                 2\n",
              "Djibouti                 2\n",
              "Honduras                 2\n",
              "Libya                    2\n",
              "Myanmar                  2\n",
              "Norway                   2\n",
              "Sao Tome and Principe    2\n",
              "Switzerland              2\n",
              "The Gambia               2\n",
              "Turkmenistan             2\n",
              "Name: Sales Channel, dtype: int64"
            ],
            "text/html": [
              "<div>\n",
              "<style scoped>\n",
              "    .dataframe tbody tr th:only-of-type {\n",
              "        vertical-align: middle;\n",
              "    }\n",
              "\n",
              "    .dataframe tbody tr th {\n",
              "        vertical-align: top;\n",
              "    }\n",
              "\n",
              "    .dataframe thead th {\n",
              "        text-align: right;\n",
              "    }\n",
              "</style>\n",
              "<table border=\"1\" class=\"dataframe\">\n",
              "  <thead>\n",
              "    <tr style=\"text-align: right;\">\n",
              "      <th></th>\n",
              "      <th>Sales Channel</th>\n",
              "    </tr>\n",
              "    <tr>\n",
              "      <th>Country</th>\n",
              "      <th></th>\n",
              "    </tr>\n",
              "  </thead>\n",
              "  <tbody>\n",
              "    <tr>\n",
              "      <th>Australia</th>\n",
              "      <td>2</td>\n",
              "    </tr>\n",
              "    <tr>\n",
              "      <th>Cameroon</th>\n",
              "      <td>2</td>\n",
              "    </tr>\n",
              "    <tr>\n",
              "      <th>Djibouti</th>\n",
              "      <td>2</td>\n",
              "    </tr>\n",
              "    <tr>\n",
              "      <th>Honduras</th>\n",
              "      <td>2</td>\n",
              "    </tr>\n",
              "    <tr>\n",
              "      <th>Libya</th>\n",
              "      <td>2</td>\n",
              "    </tr>\n",
              "    <tr>\n",
              "      <th>Myanmar</th>\n",
              "      <td>2</td>\n",
              "    </tr>\n",
              "    <tr>\n",
              "      <th>Norway</th>\n",
              "      <td>2</td>\n",
              "    </tr>\n",
              "    <tr>\n",
              "      <th>Sao Tome and Principe</th>\n",
              "      <td>2</td>\n",
              "    </tr>\n",
              "    <tr>\n",
              "      <th>Switzerland</th>\n",
              "      <td>2</td>\n",
              "    </tr>\n",
              "    <tr>\n",
              "      <th>The Gambia</th>\n",
              "      <td>2</td>\n",
              "    </tr>\n",
              "    <tr>\n",
              "      <th>Turkmenistan</th>\n",
              "      <td>2</td>\n",
              "    </tr>\n",
              "  </tbody>\n",
              "</table>\n",
              "</div><br><label><b>dtype:</b> int64</label>"
            ]
          },
          "metadata": {},
          "execution_count": 32
        }
      ]
    },
    {
      "cell_type": "markdown",
      "source": [
        "Total 11 countries are buying items from Amazon through both channels since 2010 to 2017"
      ],
      "metadata": {
        "id": "8DMXguIpXBQD"
      }
    },
    {
      "cell_type": "code",
      "source": [
        "df['Total Cost'].mean()"
      ],
      "metadata": {
        "colab": {
          "base_uri": "https://localhost:8080/"
        },
        "id": "3cAxDpq7C-jv",
        "outputId": "50b35bd0-58c8-48e8-9f01-b388b1e21434"
      },
      "execution_count": 44,
      "outputs": [
        {
          "output_type": "execute_result",
          "data": {
            "text/plain": [
              "931805.6991000001"
            ]
          },
          "metadata": {},
          "execution_count": 44
        }
      ]
    },
    {
      "cell_type": "code",
      "source": [
        "df['Total Revenue'].mean()"
      ],
      "metadata": {
        "colab": {
          "base_uri": "https://localhost:8080/"
        },
        "id": "d3NVkJNIDEtb",
        "outputId": "b5386dbd-721f-4a8a-e36c-1b2401e482d2"
      },
      "execution_count": 59,
      "outputs": [
        {
          "output_type": "execute_result",
          "data": {
            "text/plain": [
              "1373487.6831"
            ]
          },
          "metadata": {},
          "execution_count": 59
        }
      ]
    },
    {
      "cell_type": "markdown",
      "source": [
        "![image.png](data:image/png;base64,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)"
      ],
      "metadata": {
        "id": "_tnyzQEqXwG0"
      }
    },
    {
      "cell_type": "code",
      "source": [],
      "metadata": {
        "id": "rd1_gvc7X57j"
      },
      "execution_count": null,
      "outputs": []
    }
  ]
}